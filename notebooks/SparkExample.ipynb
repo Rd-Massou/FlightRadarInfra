{
 "cells": [
  {
   "cell_type": "code",
   "execution_count": 1,
   "id": "cb5961a3-0779-4b90-80af-9bc7f450dab6",
   "metadata": {},
   "outputs": [
    {
     "name": "stdout",
     "output_type": "stream",
     "text": [
      "+-------+\n",
      "|numbers|\n",
      "+-------+\n",
      "|      1|\n",
      "|      2|\n",
      "|      3|\n",
      "|      4|\n",
      "|      5|\n",
      "+-------+\n",
      "\n",
      "+-------+\n",
      "|squared|\n",
      "+-------+\n",
      "|      1|\n",
      "|      4|\n",
      "|      9|\n",
      "|     16|\n",
      "|     25|\n",
      "+-------+\n",
      "\n"
     ]
    },
    {
     "data": {
      "text/plain": [
       "spark = org.apache.spark.sql.SparkSession@5c350460\n",
       "data = List(1, 2, 3, 4, 5)\n",
       "df = [numbers: int]\n",
       "result = [squared: int]\n"
      ]
     },
     "metadata": {},
     "output_type": "display_data",
     "source": "user"
    },
    {
     "data": {
      "text/plain": [
       "[squared: int]"
      ]
     },
     "execution_count": 1,
     "metadata": {},
     "output_type": "execute_result"
    }
   ],
   "source": [
    "import org.apache.spark.sql.SparkSession\n",
    "\n",
    "// Create a Spark session\n",
    "val spark = SparkSession.builder()\n",
    "  .appName(\"Your Application Name\")\n",
    "  .master(\"spark://spark-master:7077\")  // Connect to the Spark master\n",
    "  .getOrCreate()\n",
    "\n",
    "// Now you can use the Spark session to perform various operations\n",
    "import spark.implicits._\n",
    "\n",
    "// Example: Create a DataFrame\n",
    "val data = Seq(1, 2, 3, 4, 5)\n",
    "val df = data.toDF(\"numbers\")\n",
    "\n",
    "// Show the DataFrame\n",
    "df.show()\n",
    "\n",
    "// Example: Perform a simple transformation\n",
    "val result = df.select($\"numbers\" * $\"numbers\" as \"squared\")\n",
    "result.show()\n"
   ]
  },
  {
   "cell_type": "code",
   "execution_count": 11,
   "id": "9f534f50-63a6-4547-88dd-b906c86806d2",
   "metadata": {},
   "outputs": [],
   "source": [
    "spark.read.option(\"header\", true).csv(\"/home/resources/data/DUMMY_DATASET_CSV\").show()"
   ]
  }
 ],
 "metadata": {
  "kernelspec": {
   "display_name": "Apache Toree - Scala",
   "language": "scala",
   "name": "apache_toree_scala"
  },
  "language_info": {
   "codemirror_mode": "text/x-scala",
   "file_extension": ".scala",
   "mimetype": "text/x-scala",
   "name": "scala",
   "pygments_lexer": "scala",
   "version": "2.12.15"
  }
 },
 "nbformat": 4,
 "nbformat_minor": 5
}
